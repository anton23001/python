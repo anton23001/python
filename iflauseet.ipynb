{
 "cells": [
  {
   "cell_type": "code",
   "execution_count": 8,
   "metadata": {},
   "outputs": [
    {
     "name": "stdout",
     "output_type": "stream",
     "text": [
      "Numero1 on isompi, kuin Numero2\n"
     ]
    }
   ],
   "source": [
    "#If-lauseet\n",
    "#1 abcd\n",
    "number1 = 10\n",
    "number2 = 7\n",
    "if number1 == number2:\n",
    "    print(\"Numerot ovat yhtä suuret. \")\n",
    "elif number1 > number2:\n",
    "    print(\"Numero1 on isompi, kuin Numero2. \")\n",
    "elif number1 >= number2:\n",
    "    print(\"Numero1 on suuri tai yhtäsuuri kuin Numero2. \")\n",
    "else: \n",
    "    print(\"Numero1 ei ole yhtä suuri kuin Numero2. \")\n"
   ]
  },
  {
   "cell_type": "code",
   "execution_count": 10,
   "metadata": {},
   "outputs": [
    {
     "name": "stdout",
     "output_type": "stream",
     "text": [
      "Numero2 on suurempi, kuin 3. \n"
     ]
    }
   ],
   "source": [
    "#2 abcde\n",
    "number1 = 5\n",
    "number2 = 7\n",
    "number3 = 2\n",
    "\n",
    "if number1 == number2 == number3:\n",
    "    print(\"Numerot ovat yhtä suuret. \")\n",
    "\n",
    "if (number1 == number2) or (number2 == number3):\n",
    "    print(\"Numerot 1-2 ovat yhtäsuuret tai numerot 2-3 ovat yhtäsuuret. \")\n",
    "\n",
    "if number1 > number2 and number1 > number3:\n",
    "    print(\"numero1 on suurempi, kuin numero 2 ja 3. \")\n",
    "\n",
    "if number1 > number2:\n",
    "    print(\"Numero1 on suurempi, kuin 2. \")\n",
    "\n",
    "else:\n",
    "    if number2 > number3:\n",
    "        print(\"Numero2 on suurempi, kuin 3. \")\n",
    "\n",
    "\n",
    "if number1 == number2:\n",
    "    print(\"numero1 ja  2 ovat samanarvoiset. \")\n",
    "else:\n",
    "    if number1 == number3:\n",
    "        print(\"numer1 ja 3 ovat samanarvoiset. \")"
   ]
  },
  {
   "cell_type": "code",
   "execution_count": 11,
   "metadata": {},
   "outputs": [
    {
     "name": "stdout",
     "output_type": "stream",
     "text": [
      "Nimet 1 ja 2 eivät ole samat. \n"
     ]
    }
   ],
   "source": [
    "#t2 (t3) abc\n",
    "\n",
    "nimi1 = \"Tero\"\n",
    "nimi2 = \"Arttu\"\n",
    "nimi3 = \"Lempo\"\n",
    "\n",
    "\n",
    "if nimi1 == nimi2:\n",
    "    print(\"Nimet 1 ja 2 ovat samat. \")\n",
    "\n",
    "if nimi1 != nimi2:\n",
    "    print(\"Nimet 1 ja 2 eivät ole samat. \")\n",
    "else:\n",
    "    if nimi1 == nimi3:\n",
    "        print(\"Nimi1 ovat samat nimi3 kanssa.\")"
   ]
  }
 ],
 "metadata": {
  "kernelspec": {
   "display_name": "Python 3",
   "language": "python",
   "name": "python3"
  },
  "language_info": {
   "codemirror_mode": {
    "name": "ipython",
    "version": 3
   },
   "file_extension": ".py",
   "mimetype": "text/x-python",
   "name": "python",
   "nbconvert_exporter": "python",
   "pygments_lexer": "ipython3",
   "version": "3.12.0"
  }
 },
 "nbformat": 4,
 "nbformat_minor": 2
}
