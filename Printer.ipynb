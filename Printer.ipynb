{
 "cells": [
  {
   "cell_type": "code",
   "execution_count": 28,
   "metadata": {},
   "outputs": [],
   "source": [
    "tekija = \"anton\"\n",
    "number1 = 2\n",
    "number2 = 4"
   ]
  },
  {
   "cell_type": "code",
   "execution_count": 29,
   "metadata": {},
   "outputs": [
    {
     "name": "stdout",
     "output_type": "stream",
     "text": [
      "printer app\n",
      "This app is made by:  anton\n",
      "2\n",
      "Value of number1 is 2\n",
      "The value of number2 is 4\n"
     ]
    }
   ],
   "source": [
    "print(\"printer app\")\n",
    "print(\"This app is made by: \",tekija)\n",
    "\n",
    "\n",
    "print(number1)\n",
    "# Printattu number1\n",
    "\n",
    "print(\"Value of number1 is\" , number1)\n",
    "print (\"The value of number2 is\" , number2)"
   ]
  },
  {
   "cell_type": "code",
   "execution_count": 30,
   "metadata": {},
   "outputs": [
    {
     "name": "stdout",
     "output_type": "stream",
     "text": [
      "2 X 4 = 8\n",
      "2 + 4 = 6\n",
      "2 - 4 = -2\n"
     ]
    }
   ],
   "source": [
    "#laskutoimitukset\n",
    "#kerto\n",
    "multiplication = number1 * number2\n",
    "print(\"2 X 4 =\", multiplication)\n",
    "\n",
    "#t13\n",
    "#summa\n",
    "multiplication = number1 + number2\n",
    "print(\"2 + 4 =\", multiplication)\n",
    "\n",
    "#miinus\n",
    "multiplication = number1 - number2\n",
    "print(\"2 - 4 =\", multiplication)\n",
    "\n"
   ]
  }
 ],
 "metadata": {
  "kernelspec": {
   "display_name": "Python 3",
   "language": "python",
   "name": "python3"
  },
  "language_info": {
   "codemirror_mode": {
    "name": "ipython",
    "version": 3
   },
   "file_extension": ".py",
   "mimetype": "text/x-python",
   "name": "python",
   "nbconvert_exporter": "python",
   "pygments_lexer": "ipython3",
   "version": "3.12.0"
  }
 },
 "nbformat": 4,
 "nbformat_minor": 2
}
