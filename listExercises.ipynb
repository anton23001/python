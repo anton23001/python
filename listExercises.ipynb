{
 "cells": [
  {
   "cell_type": "code",
   "execution_count": null,
   "metadata": {},
   "outputs": [],
   "source": [
    "#List exercises\n",
    "#taulukko-harjoitus"
   ]
  },
  {
   "cell_type": "code",
   "execution_count": 7,
   "metadata": {},
   "outputs": [
    {
     "name": "stdout",
     "output_type": "stream",
     "text": [
      "['table', 'chair', 'shelf', 'bed', 'armchair', 'sofa']\n",
      "['table', 'chair']\n",
      "['table', 'chair']\n",
      "table\n",
      "chair\n",
      "sofa\n"
     ]
    }
   ],
   "source": [
    "#Exercise 1\n",
    "#1, 2 , 3 , 4\n",
    "\n",
    "furnitures = [\"table\", \"chair\", \"shelf\", \"bed\", \"armchair\", \"sofa\"]\n",
    "print(furnitures)\n",
    "print(furnitures[:2])\n",
    "print(furnitures[0:2])\n",
    "\n",
    "for i in range(2):\n",
    "    print(furnitures[i])\n",
    "\n",
    "\n",
    "for item in furnitures:\n",
    "    if item == \"sofa\":\n",
    "        print(item)"
   ]
  },
  {
   "cell_type": "code",
   "execution_count": 8,
   "metadata": {},
   "outputs": [
    {
     "name": "stdout",
     "output_type": "stream",
     "text": [
      "[6, 3, 5, 1, 6]\n",
      "Kokonaissumma:  21\n",
      "Korkein arvo listalta: \n"
     ]
    }
   ],
   "source": [
    "#Exercise 2\n",
    "#1, 2, 3, 4\n",
    "\n",
    "from random import randint\n",
    "\n",
    "\n",
    "thrownDiceNumbers = []\n",
    "\n",
    "for _ in range(5):\n",
    "    thrownDiceNumbers.append(randint(1, 6))\n",
    "print(thrownDiceNumbers)\n",
    "\n",
    "total = sum(thrownDiceNumbers)\n",
    "print(\"Kokonaissumma: \", total)\n",
    "\n",
    "max_value = max(thrownDiceNumbers)\n",
    "print(\"Korkein arvo listalta: \")"
   ]
  },
  {
   "cell_type": "code",
   "execution_count": 9,
   "metadata": {},
   "outputs": [
    {
     "name": "stdout",
     "output_type": "stream",
     "text": [
      "2\n"
     ]
    }
   ],
   "source": [
    "#Exercise 3 extra\n",
    "#tba..\n",
    "\n",
    "import random\n",
    "\n",
    "print(random.randrange(1,20))\n",
    "####\n"
   ]
  }
 ],
 "metadata": {
  "kernelspec": {
   "display_name": "Python 3",
   "language": "python",
   "name": "python3"
  },
  "language_info": {
   "codemirror_mode": {
    "name": "ipython",
    "version": 3
   },
   "file_extension": ".py",
   "mimetype": "text/x-python",
   "name": "python",
   "nbconvert_exporter": "python",
   "pygments_lexer": "ipython3",
   "version": "3.12.0"
  }
 },
 "nbformat": 4,
 "nbformat_minor": 2
}
